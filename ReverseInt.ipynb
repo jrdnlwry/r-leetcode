{
 "cells": [
  {
   "cell_type": "markdown",
   "id": "7a5d6f78-8be3-4531-ba0b-068282769f76",
   "metadata": {},
   "source": [
    "# Reverse Integer"
   ]
  },
  {
   "cell_type": "markdown",
   "id": "869c56e4-7411-4d10-80e9-9790969d9bec",
   "metadata": {},
   "source": [
    "**Description**\n",
    "\n",
    "Given a signed 32-bit integer x, return x with its digits reversed.\n",
    "\n",
    "If reversing x causes the value to go outside the signed 32-bit integer range [-231, 231 - 1], then return 0."
   ]
  },
  {
   "cell_type": "code",
   "execution_count": 72,
   "id": "cac35633-985d-4c94-9ffb-67b51832d763",
   "metadata": {},
   "outputs": [],
   "source": [
    "# Test cases\n",
    "input.1 = 123\n",
    "output1 = 321\n",
    "\n",
    "input.2 = -123\n",
    "output.2 = -321\n",
    "\n",
    "input.3 = 120\n",
    "output.3 = 21"
   ]
  },
  {
   "cell_type": "code",
   "execution_count": 73,
   "id": "1e25beb3-3efb-4dbf-9158-1118804917d5",
   "metadata": {},
   "outputs": [
    {
     "data": {
      "text/html": [
       "120"
      ],
      "text/latex": [
       "120"
      ],
      "text/markdown": [
       "120"
      ],
      "text/plain": [
       "[1] 120"
      ]
     },
     "metadata": {},
     "output_type": "display_data"
    }
   ],
   "source": [
    "input.3"
   ]
  },
  {
   "cell_type": "code",
   "execution_count": 74,
   "id": "85695652-e95c-430d-b63d-23ce974e3cbf",
   "metadata": {},
   "outputs": [],
   "source": [
    "# convert the integer into a character then split it\n",
    "res = as.numeric(strsplit(as.character(input.3), \"\")[[1]])"
   ]
  },
  {
   "cell_type": "code",
   "execution_count": 75,
   "id": "69e2be5f-9f66-44a3-aabc-b3ab556d879c",
   "metadata": {},
   "outputs": [
    {
     "data": {
      "text/html": [
       "<style>\n",
       ".list-inline {list-style: none; margin:0; padding: 0}\n",
       ".list-inline>li {display: inline-block}\n",
       ".list-inline>li:not(:last-child)::after {content: \"\\00b7\"; padding: 0 .5ex}\n",
       "</style>\n",
       "<ol class=list-inline><li>0</li><li>2</li><li>1</li></ol>\n"
      ],
      "text/latex": [
       "\\begin{enumerate*}\n",
       "\\item 0\n",
       "\\item 2\n",
       "\\item 1\n",
       "\\end{enumerate*}\n"
      ],
      "text/markdown": [
       "1. 0\n",
       "2. 2\n",
       "3. 1\n",
       "\n",
       "\n"
      ],
      "text/plain": [
       "[1] 0 2 1"
      ]
     },
     "metadata": {},
     "output_type": "display_data"
    }
   ],
   "source": [
    "# resource: https://www.geeksforgeeks.org/how-to-reverse-the-order-of-given-vector-in-r/\n",
    "# reverse function\n",
    "rev(res)"
   ]
  },
  {
   "cell_type": "code",
   "execution_count": 76,
   "id": "12783276-8e18-460f-a758-d89dd4baaa1f",
   "metadata": {},
   "outputs": [
    {
     "name": "stdout",
     "output_type": "stream",
     "text": [
      "[1] 0 2 1\n"
     ]
    }
   ],
   "source": [
    "reversed = rev(res)\n",
    "print(reversed)"
   ]
  },
  {
   "cell_type": "code",
   "execution_count": 79,
   "id": "8b14d249-7a13-404f-bec1-1d3495e55dbf",
   "metadata": {},
   "outputs": [
    {
     "name": "stdout",
     "output_type": "stream",
     "text": [
      "[1] 2 1\n"
     ]
    }
   ],
   "source": [
    "# Note if 0 is present at the beginning of the array after reversing the string we need to remove it\n",
    "# we have an if statement to check if the condition is true\n",
    "# syntax for removing an element: \n",
    "##    vector[! vector %in% c(start:stop)]    ---> we can also specifiy the range but we need to check if the first value is a '0'\n",
    "## remove an element by its index: vector1 = vector1[-c(3,5)]\n",
    "# resource: https://www.geeksforgeeks.org/how-to-remove-specific-elements-from-vector-in-r/\n",
    "\n",
    "if (reversed[1] == 0){\n",
    "    #print(reversed[-c(1,1)])\n",
    "    reversed = reversed[-c(1,1)]\n",
    "    \n",
    "}"
   ]
  },
  {
   "cell_type": "code",
   "execution_count": 84,
   "id": "aeb349fc-43af-47dc-bab1-5c31c25f5074",
   "metadata": {},
   "outputs": [
    {
     "data": {
      "text/html": [
       "'double'"
      ],
      "text/latex": [
       "'double'"
      ],
      "text/markdown": [
       "'double'"
      ],
      "text/plain": [
       "[1] \"double\""
      ]
     },
     "metadata": {},
     "output_type": "display_data"
    }
   ],
   "source": [
    "typeof(reversed)"
   ]
  },
  {
   "cell_type": "code",
   "execution_count": 85,
   "id": "18c8ea3c-7bc4-4566-b8e4-4ddc8d5fb5e4",
   "metadata": {},
   "outputs": [
    {
     "data": {
      "text/html": [
       "<style>\n",
       ".list-inline {list-style: none; margin:0; padding: 0}\n",
       ".list-inline>li {display: inline-block}\n",
       ".list-inline>li:not(:last-child)::after {content: \"\\00b7\"; padding: 0 .5ex}\n",
       "</style>\n",
       "<ol class=list-inline><li>2</li><li>1</li></ol>\n"
      ],
      "text/latex": [
       "\\begin{enumerate*}\n",
       "\\item 2\n",
       "\\item 1\n",
       "\\end{enumerate*}\n"
      ],
      "text/markdown": [
       "1. 2\n",
       "2. 1\n",
       "\n",
       "\n"
      ],
      "text/plain": [
       "[1] 2 1"
      ]
     },
     "metadata": {},
     "output_type": "display_data"
    }
   ],
   "source": [
    "reversed"
   ]
  }
 ],
 "metadata": {
  "kernelspec": {
   "display_name": "R 4.5.0",
   "language": "R",
   "name": "ir-4.5.0"
  },
  "language_info": {
   "codemirror_mode": "r",
   "file_extension": ".r",
   "mimetype": "text/x-r-source",
   "name": "R",
   "pygments_lexer": "r",
   "version": "4.5.0"
  }
 },
 "nbformat": 4,
 "nbformat_minor": 5
}
