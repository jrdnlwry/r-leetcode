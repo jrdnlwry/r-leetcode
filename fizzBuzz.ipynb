{
 "cells": [
  {
   "cell_type": "markdown",
   "id": "13740f67-e599-464e-a685-e59026c4111f",
   "metadata": {},
   "source": [
    "Given an integer n, for every positive integer i <= n, the task is to print,\n",
    "\n",
    "1. \"FizzBuzz\" if i is divisible by 3 and 5,\n",
    "2. \"Fizz\" if i is divisible by 3,\n",
    "3. \"Buzz\" if i is divisible by 5,\n",
    "4. \"i\" as a string, if none of the conditions are True.\n",
    "\n",
    "Challenge: https://www.geeksforgeeks.org/fizz-buzz-implementation/"
   ]
  },
  {
   "cell_type": "code",
   "execution_count": 27,
   "id": "28c7a71a-5932-471c-916e-8cfea431b38e",
   "metadata": {},
   "outputs": [
    {
     "name": "stdout",
     "output_type": "stream",
     "text": [
      " [1]  1  2  3  4  5  6  7  8  9 10 11 12 13 14 15 16 17 18 19 20\n"
     ]
    }
   ],
   "source": [
    "# 1. generate a sequence and store it in a list structure\n",
    "n = 20\n",
    "M = c(1:n)\n",
    "print(M)"
   ]
  },
  {
   "cell_type": "code",
   "execution_count": 29,
   "id": "abed721a-9a34-4637-ba4d-1039908410ec",
   "metadata": {},
   "outputs": [
    {
     "name": "stdout",
     "output_type": "stream",
     "text": [
      "[1] 1\n",
      "[1] 2\n",
      "[1] \"Fizz\"\n",
      "[1] 4\n",
      "[1] \"Buzz\"\n",
      "[1] \"Fizz\"\n",
      "[1] 7\n",
      "[1] 8\n",
      "[1] \"Fizz\"\n",
      "[1] \"Buzz\"\n",
      "[1] 11\n",
      "[1] \"Fizz\"\n",
      "[1] 13\n",
      "[1] 14\n",
      "[1] \"FizzBuzz\"\n",
      "[1] 16\n",
      "[1] 17\n",
      "[1] \"Fizz\"\n",
      "[1] 19\n",
      "[1] \"Buzz\"\n"
     ]
    }
   ],
   "source": [
    "# 2. implement logic using if else statements\n",
    "for (i in M){\n",
    "    if (i %% 3 == 0 & i %% 5 == 0){\n",
    "        print(\"FizzBuzz\")\n",
    "    } else if (i %% 3 == 0){\n",
    "        print(\"Fizz\") \n",
    "    } else if (i %% 5 == 0) {\n",
    "        print(\"Buzz\")\n",
    "    } else {\n",
    "        print(i)\n",
    "    }\n",
    "} "
   ]
  },
  {
   "cell_type": "code",
   "execution_count": null,
   "id": "6adf8310-4707-4052-bf72-e9cf891c790c",
   "metadata": {},
   "outputs": [],
   "source": []
  }
 ],
 "metadata": {
  "kernelspec": {
   "display_name": "R",
   "language": "R",
   "name": "ir"
  },
  "language_info": {
   "codemirror_mode": "r",
   "file_extension": ".r",
   "mimetype": "text/x-r-source",
   "name": "R",
   "pygments_lexer": "r",
   "version": "3.6.3"
  }
 },
 "nbformat": 4,
 "nbformat_minor": 5
}
