{
 "cells": [
  {
   "cell_type": "markdown",
   "id": "b1891715-42fb-4e0f-9a43-9805cf3148c7",
   "metadata": {},
   "source": [
    "Given an array of integers nums and an integer target, return indices of the two numbers such that they add up to target.\n",
    "\n",
    "You may assume that each input would have exactly one solution, and you may not use the same element twice.\n",
    "\n",
    "You can return the answer in any order.\n",
    "\n",
    "Problem description: https://leetcode.com/problems/two-sum/description/"
   ]
  },
  {
   "cell_type": "markdown",
   "id": "1b73f39d-0836-4dc9-9b4e-432bb223f62b",
   "metadata": {},
   "source": [
    "**Resources used**:\n",
    "- https://stackoverflow.com/questions/48205370/how-to-get-index-in-a-loop-in-r\n",
    "- https://stackoverflow.com/questions/30610584/writing-functions-in-r"
   ]
  },
  {
   "cell_type": "code",
   "execution_count": 2,
   "id": "5ce53dad-42b3-45b5-9981-ff888e1a79ec",
   "metadata": {},
   "outputs": [],
   "source": [
    "# test cases\n",
    "inputElem = c(2,7,11,15)\n",
    "target = 9\n",
    "# expected output: [0,1]\n",
    "# we want to create sequential pairs to sum the integers until we hit our target sum\n",
    "# then we need to return the indices as an output of our function\n",
    "# note we need to iterate over indices"
   ]
  },
  {
   "cell_type": "code",
   "execution_count": 56,
   "id": "2ee2a84a-201c-48c1-b258-28541d9f9bec",
   "metadata": {},
   "outputs": [],
   "source": [
    "twoSum = function(listElem, targetInt){\n",
    "\n",
    "returnElem = c()\n",
    "    for (i in 1:length(inputElem)){\n",
    "        #print(inputElem[i])\n",
    "        for (e in 1:length(inputElem)){\n",
    "            #print(paste(i, e))\n",
    "            if (i != e){\n",
    "                #print(paste(i, e))\n",
    "                if (inputElem[i] + inputElem[e] == target) {\n",
    "                #print(paste(i, e))\n",
    "                returnElem = c(i,e)\n",
    "                break\n",
    "                }\n",
    "            } \n",
    "        }\n",
    "    }\n",
    "\n",
    "    return (print(paste(returnElem[1], returnElem[2])))\n",
    "    \n",
    "}"
   ]
  },
  {
   "cell_type": "code",
   "execution_count": 57,
   "id": "fa392b9a-f08c-43b3-b1e1-ffa9d1d77179",
   "metadata": {},
   "outputs": [
    {
     "name": "stdout",
     "output_type": "stream",
     "text": [
      "[1] \"2 1\"\n"
     ]
    }
   ],
   "source": [
    "twoSum(inputElem, target)"
   ]
  }
 ],
 "metadata": {
  "kernelspec": {
   "display_name": "R",
   "language": "R",
   "name": "ir"
  },
  "language_info": {
   "codemirror_mode": "r",
   "file_extension": ".r",
   "mimetype": "text/x-r-source",
   "name": "R",
   "pygments_lexer": "r",
   "version": "3.6.3"
  }
 },
 "nbformat": 4,
 "nbformat_minor": 5
}
